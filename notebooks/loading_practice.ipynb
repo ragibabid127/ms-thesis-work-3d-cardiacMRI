{
 "cells": [
  {
   "cell_type": "code",
   "execution_count": null,
   "id": "5104eace-91fd-4b1d-bde6-fd2413e40512",
   "metadata": {},
   "outputs": [],
   "source": [
    "cropped_norm/cropped_norm/pat0_cropped_norm.nii.gz"
   ]
  },
  {
   "cell_type": "code",
   "execution_count": 1,
   "id": "1a15a499-b473-46c0-832a-2fa2030c552a",
   "metadata": {},
   "outputs": [],
   "source": [
    "import nibabel as nib\n",
    "import numpy as np\n",
    "\n",
    "# Load the .nii.gz file\n",
    "nii_img = nib.load('cropped_norm/cropped_norm/pat0_cropped_norm.nii.gz')\n",
    "data = nii_img.get_fdata()\n",
    "affine = nii_img.affine\n",
    "\n",
    "# Convert to float32 for compatibility\n",
    "data = data.astype(np.float32)"
   ]
  },
  {
   "cell_type": "code",
   "execution_count": 2,
   "id": "526bd3ca-0bb3-4880-83d5-10d1ac74a8ad",
   "metadata": {},
   "outputs": [],
   "source": [
    "from mayavi import mlab\n",
    "\n",
    "mlab.pipeline.volume(mlab.pipeline.scalar_field(data))\n",
    "mlab.show()"
   ]
  },
  {
   "cell_type": "code",
   "execution_count": 4,
   "id": "c57affb9-f92f-4676-82ef-3d7d607b1ff9",
   "metadata": {},
   "outputs": [],
   "source": [
    "import nibabel as nib\n",
    "import numpy as np\n",
    "from mayavi import mlab\n",
    "\n",
    "# Load MRI, segmentation, and endpoint volumes\n",
    "mri_img = nib.load(\"cropped_norm/cropped_norm/pat0_cropped_norm.nii.gz\").get_fdata()\n",
    "seg_img = nib.load(\"cropped_norm/cropped_norm/pat0_cropped_seg.nii.gz\").get_fdata()\n",
    "endpoints_img = nib.load(\"cropped_norm/cropped_norm/pat0_cropped_seg_endpoints.nii.gz\").get_fdata()\n",
    "\n",
    "# # Normalize MRI for better contrast\n",
    "# mri_img = (mri_img - mri_img.min()) / (mri_img.max() - mri_img.min())\n",
    "\n",
    "# Create Mayavi figure\n",
    "mlab.figure(bgcolor=(0, 0, 0), size=(800, 800))\n",
    "\n",
    "# Display the MRI base scan (volume rendering)\n",
    "src = mlab.pipeline.scalar_field(mri_img)\n",
    "mlab.pipeline.volume(src, vmin=0.1, vmax=0.6)\n",
    "\n",
    "# Overlay segmentation as contour surface\n",
    "if np.any(seg_img):\n",
    "    seg_src = mlab.pipeline.scalar_field(seg_img)\n",
    "    seg_contour = mlab.pipeline.contour(seg_src)\n",
    "    seg_contour.filter.contours = [1]  # Assuming 1 is the label value\n",
    "    mlab.pipeline.surface(seg_contour, color=(1, 0, 0), opacity=0.4)  # Red, semi-transparent\n",
    "\n",
    "# Overlay endpoints as dots/spheres (nonzero voxels)\n",
    "if np.any(endpoints_img):\n",
    "    points = np.array(np.where(endpoints_img > 0)).T\n",
    "    x, y, z = points[:, 0], points[:, 1], points[:, 2]\n",
    "    mlab.points3d(x, y, z, scale_factor=2.0, color=(0, 1, 0))  # Green dots\n",
    "\n",
    "# Show the visualization\n",
    "mlab.view(azimuth=180, elevation=90, distance=200)\n",
    "mlab.show()"
   ]
  },
  {
   "cell_type": "code",
   "execution_count": null,
   "id": "3014a033-6d3f-4488-9213-f28af3a5b026",
   "metadata": {},
   "outputs": [],
   "source": []
  }
 ],
 "metadata": {
  "kernelspec": {
   "display_name": "Python 3 (ipykernel)",
   "language": "python",
   "name": "python3"
  },
  "language_info": {
   "codemirror_mode": {
    "name": "ipython",
    "version": 3
   },
   "file_extension": ".py",
   "mimetype": "text/x-python",
   "name": "python",
   "nbconvert_exporter": "python",
   "pygments_lexer": "ipython3",
   "version": "3.10.18"
  }
 },
 "nbformat": 4,
 "nbformat_minor": 5
}
